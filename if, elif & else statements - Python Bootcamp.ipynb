{
 "cells": [
  {
   "cell_type": "code",
   "execution_count": 1,
   "id": "e5f06a61",
   "metadata": {},
   "outputs": [
    {
     "name": "stdout",
     "output_type": "stream",
     "text": [
      "ITS TRUE!\n"
     ]
    }
   ],
   "source": [
    "if True:\n",
    "    print('ITS TRUE!')"
   ]
  },
  {
   "cell_type": "code",
   "execution_count": 2,
   "id": "9d9543fc",
   "metadata": {},
   "outputs": [
    {
     "name": "stdout",
     "output_type": "stream",
     "text": [
      "ITS TRUE!\n"
     ]
    }
   ],
   "source": [
    "if (3 > 2):\n",
    "    print('ITS TRUE!')"
   ]
  },
  {
   "cell_type": "code",
   "execution_count": 3,
   "id": "e45e0f5e",
   "metadata": {},
   "outputs": [
    {
     "name": "stdout",
     "output_type": "stream",
     "text": [
      "FEED ME!\n"
     ]
    }
   ],
   "source": [
    "hungry = True\n",
    "if hungry:\n",
    "    print('FEED ME!')"
   ]
  },
  {
   "cell_type": "code",
   "execution_count": 4,
   "id": "33f0211f",
   "metadata": {},
   "outputs": [],
   "source": [
    "hungry = False\n",
    "if hungry:\n",
    "    print('FEED ME!')"
   ]
  },
  {
   "cell_type": "code",
   "execution_count": 7,
   "id": "db63d606",
   "metadata": {},
   "outputs": [
    {
     "name": "stdout",
     "output_type": "stream",
     "text": [
      "IM NOT HUNGRY\n"
     ]
    }
   ],
   "source": [
    "hungry = False\n",
    "if hungry:\n",
    "    print('FEED ME!')\n",
    "else:\n",
    "    print('IM NOT HUNGRY')"
   ]
  },
  {
   "cell_type": "code",
   "execution_count": 8,
   "id": "aed992b0",
   "metadata": {},
   "outputs": [
    {
     "name": "stdout",
     "output_type": "stream",
     "text": [
      "FEED ME!\n"
     ]
    }
   ],
   "source": [
    "hungry = True\n",
    "if hungry:\n",
    "    print('FEED ME!')\n",
    "else:\n",
    "    print('IM NOT HUNGRY')"
   ]
  },
  {
   "cell_type": "code",
   "execution_count": 10,
   "id": "f2ac2d20",
   "metadata": {},
   "outputs": [
    {
     "name": "stdout",
     "output_type": "stream",
     "text": [
      "I do not know much\n"
     ]
    }
   ],
   "source": [
    "loc = 'Bank'\n",
    "if loc == 'Auto Shop':\n",
    "    print('Cars are cool!')\n",
    "else: print('I do not know much')"
   ]
  },
  {
   "cell_type": "code",
   "execution_count": 12,
   "id": "03e28a9d",
   "metadata": {},
   "outputs": [
    {
     "name": "stdout",
     "output_type": "stream",
     "text": [
      "Money is cool!\n"
     ]
    }
   ],
   "source": [
    "loc = 'Bank'\n",
    "if loc == 'Auto Shop':\n",
    "    print('Cars are cool!')\n",
    "elif loc == 'Bank':\n",
    "        print('Money is cool!')\n",
    "else: print('I do not know much')"
   ]
  },
  {
   "cell_type": "code",
   "execution_count": 13,
   "id": "a9137d80",
   "metadata": {},
   "outputs": [
    {
     "name": "stdout",
     "output_type": "stream",
     "text": [
      "Cars are cool!\n"
     ]
    }
   ],
   "source": [
    "loc = 'Auto Shop'\n",
    "if loc == 'Auto Shop':\n",
    "    print('Cars are cool!')\n",
    "elif loc == 'Bank':\n",
    "        print('Money is cool!')\n",
    "else: print('I do not know much')"
   ]
  },
  {
   "cell_type": "code",
   "execution_count": 15,
   "id": "fc31302d",
   "metadata": {},
   "outputs": [
    {
     "name": "stdout",
     "output_type": "stream",
     "text": [
      "Welcome to the store!\n"
     ]
    }
   ],
   "source": [
    "loc = 'Store'\n",
    "if loc == 'Auto Shop':\n",
    "    print('Cars are cool!')\n",
    "elif loc == 'Bank':\n",
    "    print('Money is cool!')\n",
    "elif loc == 'Store':\n",
    "    print('Welcome to the store!')\n",
    "else: print('I do not know much')"
   ]
  },
  {
   "cell_type": "code",
   "execution_count": 16,
   "id": "bf756afb",
   "metadata": {},
   "outputs": [
    {
     "name": "stdout",
     "output_type": "stream",
     "text": [
      "I do not know much\n"
     ]
    }
   ],
   "source": [
    "loc = 'Game'\n",
    "if loc == 'Auto Shop':\n",
    "    print('Cars are cool!')\n",
    "elif loc == 'Bank':\n",
    "    print('Money is cool!')\n",
    "elif loc == 'Store':\n",
    "    print('Welcome to the store!')\n",
    "else: print('I do not know much')"
   ]
  },
  {
   "cell_type": "code",
   "execution_count": 21,
   "id": "98eaa14c",
   "metadata": {},
   "outputs": [
    {
     "name": "stdout",
     "output_type": "stream",
     "text": [
      "Hello Sammy\n"
     ]
    }
   ],
   "source": [
    "name = 'Sammy'\n",
    "if name == 'Frankie':\n",
    "    print('Hello Frankie')\n",
    "elif name == 'Sammy':\n",
    "    print ('Hello Sammy')\n",
    "else: print('What is your name?')"
   ]
  },
  {
   "cell_type": "code",
   "execution_count": 22,
   "id": "10436f41",
   "metadata": {},
   "outputs": [
    {
     "name": "stdout",
     "output_type": "stream",
     "text": [
      "What is your name?\n"
     ]
    }
   ],
   "source": [
    "name = 'Bob'\n",
    "if name == 'Frankie':\n",
    "    print('Hello Frankie')\n",
    "elif name == 'Sammy':\n",
    "    print ('Hello Sammy')\n",
    "else: print('What is your name?')"
   ]
  }
 ],
 "metadata": {
  "kernelspec": {
   "display_name": "Python 3",
   "language": "python",
   "name": "python3"
  },
  "language_info": {
   "codemirror_mode": {
    "name": "ipython",
    "version": 3
   },
   "file_extension": ".py",
   "mimetype": "text/x-python",
   "name": "python",
   "nbconvert_exporter": "python",
   "pygments_lexer": "ipython3",
   "version": "3.8.8"
  }
 },
 "nbformat": 4,
 "nbformat_minor": 5
}
